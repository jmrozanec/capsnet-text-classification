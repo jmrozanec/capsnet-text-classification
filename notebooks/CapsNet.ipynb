{
 "cells": [
  {
   "cell_type": "code",
   "execution_count": 1,
   "metadata": {},
   "outputs": [],
   "source": [
    "# We took some code and adapted from: https://software.intel.com/en-us/articles/understanding-capsule-network-architecture"
   ]
  },
  {
   "cell_type": "code",
   "execution_count": 2,
   "metadata": {},
   "outputs": [
    {
     "name": "stderr",
     "output_type": "stream",
     "text": [
      "Using TensorFlow backend.\n"
     ]
    }
   ],
   "source": [
    "from sklearn.model_selection import train_test_split\n",
    "from sklearn.metrics import accuracy_score\n",
    "\n",
    "from keras import layers, models, optimizers\n",
    "from keras.layers import Input, Conv1D, Dense\n",
    "from keras.layers import Reshape, Layer, Lambda\n",
    "from keras.models import Model\n",
    "from keras.utils import to_categorical\n",
    "from keras import initializers\n",
    "from keras.optimizers import Adam\n",
    "from keras.datasets import mnist\n",
    "from keras import backend as K\n",
    "\n",
    "import pandas as pd\n",
    "import numpy as np\n",
    "import tensorflow as tf"
   ]
  },
  {
   "cell_type": "code",
   "execution_count": 3,
   "metadata": {},
   "outputs": [],
   "source": [
    "def squash(output_vector, axis=-1):\n",
    "    norm = tf.reduce_sum(tf.square(output_vector), axis, keep_dims=True)\n",
    "    return output_vector * norm / ((1 + norm) * tf.sqrt(norm + 1.0e-10))"
   ]
  },
  {
   "cell_type": "code",
   "execution_count": 4,
   "metadata": {},
   "outputs": [],
   "source": [
    "class MaskingLayer(Layer):\n",
    "    def call(self, inputs, **kwargs):\n",
    "        input, mask = inputs\n",
    "        return K.batch_dot(input, mask, 1)\n",
    "\n",
    "    def compute_output_shape(self, input_shape):\n",
    "        output_shape = input_shape[0][-1]\n",
    "        return (None, output_shape)"
   ]
  },
  {
   "cell_type": "code",
   "execution_count": 5,
   "metadata": {},
   "outputs": [],
   "source": [
    "def PrimaryCapsule(n_vector, n_channel, n_kernel_size, n_stride, padding='valid'):\n",
    "    def builder(inputs):\n",
    "        output = Conv1D(filters=n_vector * n_channel, kernel_size=n_kernel_size, strides=n_stride, padding=padding)(inputs)\n",
    "        output = Reshape( target_shape=[-1, n_vector], name='primary_capsule_reshape')(output)\n",
    "        return Lambda(squash, name='primary_capsule_squash')(output)\n",
    "    return builder"
   ]
  },
  {
   "cell_type": "code",
   "execution_count": 6,
   "metadata": {},
   "outputs": [],
   "source": [
    "class CapsuleLayer(Layer):\n",
    "    def __init__(self, n_capsule, n_vec, n_routing, **kwargs):\n",
    "        super(CapsuleLayer, self).__init__(**kwargs)\n",
    "        self.n_capsule = n_capsule\n",
    "        self.n_vector = n_vec\n",
    "        self.n_routing = n_routing\n",
    "        self.kernel_initializer = initializers.get('he_normal')\n",
    "        self.bias_initializer = initializers.get('zeros')\n",
    "\n",
    "    def build(self, input_shape): # input_shape is a 4D tensor\n",
    "        self.input_n_capsule = input_shape[1]\n",
    "        self.input_n_vector = input_shape[2]\n",
    "        \n",
    "        self.W = self.add_weight(shape=[self.input_n_capsule, self.n_capsule, self.input_n_vector, self.n_vector], initializer=self.kernel_initializer, name='W')\n",
    "        self.bias = self.add_weight(shape=[1, self.input_n_capsule, self.n_capsule, 1, 1], initializer=self.bias_initializer, name='bias', trainable=False)\n",
    "        self.built = True\n",
    "\n",
    "    def call(self, inputs, training=None):\n",
    "        input_expand = tf.expand_dims(tf.expand_dims(inputs, 2), 2)\n",
    "        input_tiled = tf.tile(input_expand, [1, 1, self.n_capsule, 1, 1])\n",
    "        input_hat = tf.scan(lambda ac, x: K.batch_dot(x, self.W, [3, 2]), elems=input_tiled, initializer=K.zeros( [self.input_n_capsule, self.n_capsule, 1, self.n_vector]))\n",
    "        for i in range(self.n_routing): # routing\n",
    "            c = tf.nn.softmax(self.bias, dim=2)\n",
    "            outputs = squash(tf.reduce_sum( c * input_hat, axis=1, keep_dims=True))\n",
    "            if i != self.n_routing - 1:\n",
    "                self.bias += tf.reduce_sum(input_hat * outputs, axis=-1, keep_dims=True)\n",
    "        return tf.reshape(outputs, [-1, self.n_capsule, self.n_vector])\n",
    "\n",
    "    def compute_output_shape(self, input_shape):\n",
    "        # output current layer capsules\n",
    "        return (None, self.n_capsule, self.n_vector)"
   ]
  },
  {
   "cell_type": "code",
   "execution_count": 7,
   "metadata": {},
   "outputs": [],
   "source": [
    "class LengthLayer(Layer):\n",
    "    def call(self, inputs, **kwargs):\n",
    "        return tf.sqrt(tf.reduce_sum(tf.square(inputs), axis=-1, keep_dims=False))\n",
    "\n",
    "    def compute_output_shape(self, input_shape):\n",
    "        output_shape = input_shape[0:-1]\n",
    "        return tuple(output_shape)"
   ]
  },
  {
   "cell_type": "code",
   "execution_count": 8,
   "metadata": {},
   "outputs": [],
   "source": [
    "def margin_loss(y_ground_truth, y_prediction):\n",
    "    _m_plus = 0.9\n",
    "    _m_minus = 0.1\n",
    "    _lambda = 0.5\n",
    "    L = y_ground_truth * tf.square(tf.maximum(0., _m_plus - y_prediction)) + _lambda * ( 1 - y_ground_truth) * tf.square(tf.maximum(0., y_prediction - _m_minus))\n",
    "    return tf.reduce_mean(tf.reduce_sum(L, axis=1))"
   ]
  },
  {
   "cell_type": "code",
   "execution_count": 9,
   "metadata": {},
   "outputs": [],
   "source": [
    "def load_data():\n",
    "    df = pd.read_csv(\"../dataset/embeddings-ft1-clean.csv\", sep=\";\")\n",
    "    df = df.drop('id', axis=1)\n",
    "    all_but_target = list(set(df.columns.values)-set([\"target\"]))\n",
    "    X = df[all_but_target]\n",
    "    y = df[[\"target\"]]\n",
    "    return X.as_matrix(), pd.get_dummies(y).as_matrix()"
   ]
  },
  {
   "cell_type": "code",
   "execution_count": 10,
   "metadata": {},
   "outputs": [
    {
     "name": "stderr",
     "output_type": "stream",
     "text": [
      "/home/joze/other/repos/capsnet/venv/lib/python2.7/site-packages/ipykernel_launcher.py:7: FutureWarning: Method .as_matrix will be removed in a future version. Use .values instead.\n",
      "  import sys\n"
     ]
    }
   ],
   "source": [
    "X, y = load_data()"
   ]
  },
  {
   "cell_type": "code",
   "execution_count": 11,
   "metadata": {},
   "outputs": [],
   "source": [
    "x_train, x_test, y_train, y_test = train_test_split(X, y, test_size=0.20, random_state=42)"
   ]
  },
  {
   "cell_type": "code",
   "execution_count": 12,
   "metadata": {},
   "outputs": [],
   "source": [
    "def reshapeX(X):\n",
    "    return X.reshape((-1, 300, 1)).astype('float32')\n",
    "def reshapeY(y):\n",
    "    return y.reshape((-1, 4, 1))"
   ]
  },
  {
   "cell_type": "code",
   "execution_count": 13,
   "metadata": {},
   "outputs": [],
   "source": [
    "x_train = reshapeX(x_train)\n",
    "x_test = reshapeX(x_test)"
   ]
  },
  {
   "cell_type": "code",
   "execution_count": 14,
   "metadata": {},
   "outputs": [
    {
     "name": "stdout",
     "output_type": "stream",
     "text": [
      "(337850, 300, 1)\n",
      "(337850, 4)\n"
     ]
    }
   ],
   "source": [
    "print(x_train.shape)\n",
    "print(y_train.shape)"
   ]
  },
  {
   "cell_type": "code",
   "execution_count": 15,
   "metadata": {},
   "outputs": [],
   "source": [
    "input_shape = [300, 1]\n",
    "n_class = 4\n",
    "n_routing = 3"
   ]
  },
  {
   "cell_type": "code",
   "execution_count": 16,
   "metadata": {},
   "outputs": [
    {
     "name": "stdout",
     "output_type": "stream",
     "text": [
      "WARNING:tensorflow:From <ipython-input-3-6360b89d1cde>:2: calling reduce_sum (from tensorflow.python.ops.math_ops) with keep_dims is deprecated and will be removed in a future version.\n",
      "Instructions for updating:\n",
      "keep_dims is deprecated, use keepdims instead\n",
      "WARNING:tensorflow:From <ipython-input-6-977283d43a07>:23: calling softmax (from tensorflow.python.ops.nn_ops) with dim is deprecated and will be removed in a future version.\n",
      "Instructions for updating:\n",
      "dim is deprecated, use axis instead\n",
      "WARNING:tensorflow:Variable += will be deprecated. Use variable.assign_add if you want assignment to the variable value or 'x = x + y' if you want a new python Tensor object.\n"
     ]
    }
   ],
   "source": [
    "x = Input(shape=input_shape)\n",
    "conv1 = Conv1D(filters=256, kernel_size=10, strides=1, padding='valid', activation='relu', name='conv1')(x)\n",
    "primary_capsule = PrimaryCapsule( n_vector=8, n_channel=32, n_kernel_size=10, n_stride=2)(conv1)\n",
    "target_capsule = CapsuleLayer( n_capsule=n_class, n_vec=16, n_routing=n_routing, name='target_capsule')(primary_capsule)\n",
    "output_capsule = LengthLayer(name='output_capsule')(target_capsule)"
   ]
  },
  {
   "cell_type": "code",
   "execution_count": 17,
   "metadata": {},
   "outputs": [],
   "source": [
    "mask_input = Input(shape=(n_class, ))\n",
    "mask = MaskingLayer()([target_capsule, mask_input])  # two inputs\n",
    "dec = Dense(512, activation='relu')(mask)\n",
    "dec = Dense(1024, activation='relu')(dec)\n",
    "dec = Dense(300, activation='sigmoid')(dec)\n",
    "dec = Reshape(input_shape)(dec)"
   ]
  },
  {
   "cell_type": "code",
   "execution_count": 18,
   "metadata": {},
   "outputs": [],
   "source": [
    "model = Model([x, mask_input], [output_capsule, dec])\n",
    "model.compile(optimizer='adam', loss=[ margin_loss, 'mae' ], metrics=[ margin_loss, 'mae', 'accuracy'])"
   ]
  },
  {
   "cell_type": "code",
   "execution_count": 19,
   "metadata": {},
   "outputs": [
    {
     "name": "stdout",
     "output_type": "stream",
     "text": [
      "Train on 270280 samples, validate on 67570 samples\n",
      "Epoch 1/10\n",
      "270280/270280 [==============================] - 5495s 20ms/step - loss: 0.2690 - output_capsule_loss: 0.2112 - reshape_1_loss: 0.0578 - output_capsule_margin_loss: 0.2112 - output_capsule_mean_absolute_error: 0.2441 - output_capsule_acc: 0.7493 - reshape_1_margin_loss: -0.4752 - reshape_1_mean_absolute_error: 0.0578 - reshape_1_acc: 1.1666e-04 - val_loss: 0.1563 - val_output_capsule_loss: 0.1182 - val_reshape_1_loss: 0.0381 - val_output_capsule_margin_loss: 0.1182 - val_output_capsule_mean_absolute_error: 0.2041 - val_output_capsule_acc: 0.8519 - val_reshape_1_margin_loss: -1.3612 - val_reshape_1_mean_absolute_error: 0.0381 - val_reshape_1_acc: 1.2062e-04\n",
      "Epoch 2/10\n",
      "270280/270280 [==============================] - 5490s 20ms/step - loss: 0.1472 - output_capsule_loss: 0.1093 - reshape_1_loss: 0.0379 - output_capsule_margin_loss: 0.1093 - output_capsule_mean_absolute_error: 0.1983 - output_capsule_acc: 0.8597 - reshape_1_margin_loss: -1.3739 - reshape_1_mean_absolute_error: 0.0379 - reshape_1_acc: 1.1668e-04 - val_loss: 0.1364 - val_output_capsule_loss: 0.0986 - val_reshape_1_loss: 0.0378 - val_output_capsule_margin_loss: 0.0986 - val_output_capsule_mean_absolute_error: 0.1835 - val_output_capsule_acc: 0.8675 - val_reshape_1_margin_loss: -1.3825 - val_reshape_1_mean_absolute_error: 0.0378 - val_reshape_1_acc: 1.2062e-04\n",
      "Epoch 3/10\n",
      "270280/270280 [==============================] - 5493s 20ms/step - loss: 0.1313 - output_capsule_loss: 0.0936 - reshape_1_loss: 0.0377 - output_capsule_margin_loss: 0.0936 - output_capsule_mean_absolute_error: 0.1778 - output_capsule_acc: 0.8700 - reshape_1_margin_loss: -1.3870 - reshape_1_mean_absolute_error: 0.0377 - reshape_1_acc: 1.1668e-04 - val_loss: 0.1272 - val_output_capsule_loss: 0.0896 - val_reshape_1_loss: 0.0375 - val_output_capsule_margin_loss: 0.0896 - val_output_capsule_mean_absolute_error: 0.1670 - val_output_capsule_acc: 0.8742 - val_reshape_1_margin_loss: -1.3914 - val_reshape_1_mean_absolute_error: 0.0375 - val_reshape_1_acc: 1.2062e-04\n",
      "Epoch 4/10\n",
      "270280/270280 [==============================] - 5504s 20ms/step - loss: 0.1231 - output_capsule_loss: 0.0857 - reshape_1_loss: 0.0374 - output_capsule_margin_loss: 0.0857 - output_capsule_mean_absolute_error: 0.1687 - output_capsule_acc: 0.8792 - reshape_1_margin_loss: -1.3981 - reshape_1_mean_absolute_error: 0.0374 - reshape_1_acc: 1.1668e-04 - val_loss: 0.1217 - val_output_capsule_loss: 0.0844 - val_reshape_1_loss: 0.0373 - val_output_capsule_margin_loss: 0.0844 - val_output_capsule_mean_absolute_error: 0.1637 - val_output_capsule_acc: 0.8810 - val_reshape_1_margin_loss: -1.3998 - val_reshape_1_mean_absolute_error: 0.0373 - val_reshape_1_acc: 1.2062e-04\n",
      "Epoch 5/10\n",
      "270280/270280 [==============================] - 5504s 20ms/step - loss: 0.1177 - output_capsule_loss: 0.0805 - reshape_1_loss: 0.0372 - output_capsule_margin_loss: 0.0805 - output_capsule_mean_absolute_error: 0.1634 - output_capsule_acc: 0.8869 - reshape_1_margin_loss: -1.4069 - reshape_1_mean_absolute_error: 0.0372 - reshape_1_acc: 1.1668e-04 - val_loss: 0.1218 - val_output_capsule_loss: 0.0847 - val_reshape_1_loss: 0.0372 - val_output_capsule_margin_loss: 0.0847 - val_output_capsule_mean_absolute_error: 0.1669 - val_output_capsule_acc: 0.8817 - val_reshape_1_margin_loss: -1.3991 - val_reshape_1_mean_absolute_error: 0.0372 - val_reshape_1_acc: 1.2062e-04\n",
      "Epoch 6/10\n",
      "270280/270280 [==============================] - 5506s 20ms/step - loss: 0.1140 - output_capsule_loss: 0.0769 - reshape_1_loss: 0.0371 - output_capsule_margin_loss: 0.0769 - output_capsule_mean_absolute_error: 0.1599 - output_capsule_acc: 0.8925 - reshape_1_margin_loss: -1.4133 - reshape_1_mean_absolute_error: 0.0371 - reshape_1_acc: 1.1668e-04 - val_loss: 0.1183 - val_output_capsule_loss: 0.0812 - val_reshape_1_loss: 0.0370 - val_output_capsule_margin_loss: 0.0812 - val_output_capsule_mean_absolute_error: 0.1587 - val_output_capsule_acc: 0.8854 - val_reshape_1_margin_loss: -1.4111 - val_reshape_1_mean_absolute_error: 0.0370 - val_reshape_1_acc: 1.2062e-04\n",
      "Epoch 7/10\n",
      "270280/270280 [==============================] - 5504s 20ms/step - loss: 0.1110 - output_capsule_loss: 0.0740 - reshape_1_loss: 0.0370 - output_capsule_margin_loss: 0.0740 - output_capsule_mean_absolute_error: 0.1569 - output_capsule_acc: 0.8964 - reshape_1_margin_loss: -1.4186 - reshape_1_mean_absolute_error: 0.0370 - reshape_1_acc: 1.1668e-04 - val_loss: 0.1135 - val_output_capsule_loss: 0.0766 - val_reshape_1_loss: 0.0369 - val_output_capsule_margin_loss: 0.0766 - val_output_capsule_mean_absolute_error: 0.1556 - val_output_capsule_acc: 0.8931 - val_reshape_1_margin_loss: -1.4154 - val_reshape_1_mean_absolute_error: 0.0369 - val_reshape_1_acc: 1.2062e-04\n",
      "Epoch 8/10\n",
      "270280/270280 [==============================] - 5521s 20ms/step - loss: 0.1087 - output_capsule_loss: 0.0719 - reshape_1_loss: 0.0368 - output_capsule_margin_loss: 0.0719 - output_capsule_mean_absolute_error: 0.1550 - output_capsule_acc: 0.8995 - reshape_1_margin_loss: -1.4233 - reshape_1_mean_absolute_error: 0.0368 - reshape_1_acc: 1.1668e-04 - val_loss: 0.1128 - val_output_capsule_loss: 0.0760 - val_reshape_1_loss: 0.0368 - val_output_capsule_margin_loss: 0.0760 - val_output_capsule_mean_absolute_error: 0.1556 - val_output_capsule_acc: 0.8939 - val_reshape_1_margin_loss: -1.4245 - val_reshape_1_mean_absolute_error: 0.0368 - val_reshape_1_acc: 1.2062e-04\n",
      "Epoch 9/10\n",
      "270280/270280 [==============================] - 5524s 20ms/step - loss: 0.1062 - output_capsule_loss: 0.0695 - reshape_1_loss: 0.0367 - output_capsule_margin_loss: 0.0695 - output_capsule_mean_absolute_error: 0.1528 - output_capsule_acc: 0.9037 - reshape_1_margin_loss: -1.4277 - reshape_1_mean_absolute_error: 0.0367 - reshape_1_acc: 1.1668e-04 - val_loss: 0.1121 - val_output_capsule_loss: 0.0754 - val_reshape_1_loss: 0.0367 - val_output_capsule_margin_loss: 0.0754 - val_output_capsule_mean_absolute_error: 0.1565 - val_output_capsule_acc: 0.8943 - val_reshape_1_margin_loss: -1.4325 - val_reshape_1_mean_absolute_error: 0.0367 - val_reshape_1_acc: 1.2062e-04\n",
      "Epoch 10/10\n",
      "270280/270280 [==============================] - 5525s 20ms/step - loss: 0.1046 - output_capsule_loss: 0.0680 - reshape_1_loss: 0.0366 - output_capsule_margin_loss: 0.0680 - output_capsule_mean_absolute_error: 0.1515 - output_capsule_acc: 0.9049 - reshape_1_margin_loss: -1.4317 - reshape_1_mean_absolute_error: 0.0366 - reshape_1_acc: 1.1668e-04 - val_loss: 0.1135 - val_output_capsule_loss: 0.0769 - val_reshape_1_loss: 0.0366 - val_output_capsule_margin_loss: 0.0769 - val_output_capsule_mean_absolute_error: 0.1551 - val_output_capsule_acc: 0.8918 - val_reshape_1_margin_loss: -1.4406 - val_reshape_1_mean_absolute_error: 0.0366 - val_reshape_1_acc: 1.2062e-04\n"
     ]
    },
    {
     "data": {
      "text/plain": [
       "<keras.callbacks.History at 0x7f819b4c6ed0>"
      ]
     },
     "execution_count": 19,
     "metadata": {},
     "output_type": "execute_result"
    }
   ],
   "source": [
    "model.fit([x_train, y_train], [y_train, x_train], batch_size=500, epochs=10, validation_split=0.2)"
   ]
  },
  {
   "cell_type": "code",
   "execution_count": 20,
   "metadata": {},
   "outputs": [],
   "source": [
    "predictions, decoded = model.predict([x_test, y_test])"
   ]
  },
  {
   "cell_type": "code",
   "execution_count": 21,
   "metadata": {},
   "outputs": [],
   "source": [
    "preds = np.argmax(predictions, axis=1)\n",
    "ytest = np.argmax(y_test, axis=1)"
   ]
  },
  {
   "cell_type": "code",
   "execution_count": 22,
   "metadata": {},
   "outputs": [],
   "source": [
    "accuracy = accuracy_score(ytest, preds)"
   ]
  },
  {
   "cell_type": "code",
   "execution_count": 23,
   "metadata": {},
   "outputs": [
    {
     "data": {
      "text/plain": [
       "0.8900702082568699"
      ]
     },
     "execution_count": 23,
     "metadata": {},
     "output_type": "execute_result"
    }
   ],
   "source": [
    "accuracy"
   ]
  },
  {
   "cell_type": "code",
   "execution_count": null,
   "metadata": {},
   "outputs": [],
   "source": []
  }
 ],
 "metadata": {
  "kernelspec": {
   "display_name": "Python 2",
   "language": "python",
   "name": "python2"
  },
  "language_info": {
   "codemirror_mode": {
    "name": "ipython",
    "version": 2
   },
   "file_extension": ".py",
   "mimetype": "text/x-python",
   "name": "python",
   "nbconvert_exporter": "python",
   "pygments_lexer": "ipython2",
   "version": "2.7.12"
  }
 },
 "nbformat": 4,
 "nbformat_minor": 2
}
