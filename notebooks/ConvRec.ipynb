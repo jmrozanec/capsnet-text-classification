{
 "cells": [
  {
   "cell_type": "code",
   "execution_count": 63,
   "metadata": {},
   "outputs": [],
   "source": [
    "from sklearn.model_selection import train_test_split\n",
    "from sklearn.metrics import accuracy_score\n",
    "\n",
    "from keras import layers, models, optimizers\n",
    "from keras.layers import Input, Conv1D, Dense, Bidirectional, MaxPooling1D, LSTM, TimeDistributed, Flatten, Dropout\n",
    "from keras.models import Model\n",
    "from keras.utils import to_categorical\n",
    "from keras import initializers\n",
    "from keras.optimizers import Adam\n",
    "from keras.datasets import mnist\n",
    "from keras import backend as K\n",
    "\n",
    "import pandas as pd\n",
    "import numpy as np\n",
    "import tensorflow as tf"
   ]
  },
  {
   "cell_type": "code",
   "execution_count": 2,
   "metadata": {},
   "outputs": [],
   "source": [
    "def load_data():\n",
    "    df = pd.read_csv(\"../dataset/embeddings-ft1-clean.csv\", sep=\";\")\n",
    "    df = df.drop('id', axis=1)\n",
    "    all_but_target = list(set(df.columns.values)-set([\"target\"]))\n",
    "    X = df[all_but_target]\n",
    "    y = df[[\"target\"]]\n",
    "    return X.as_matrix(), pd.get_dummies(y).as_matrix()"
   ]
  },
  {
   "cell_type": "code",
   "execution_count": 45,
   "metadata": {},
   "outputs": [
    {
     "name": "stderr",
     "output_type": "stream",
     "text": [
      "/home/joze/other/repos/capsnet/venv/lib/python2.7/site-packages/ipykernel_launcher.py:7: FutureWarning: Method .as_matrix will be removed in a future version. Use .values instead.\n",
      "  import sys\n"
     ]
    }
   ],
   "source": [
    "X, y = load_data()"
   ]
  },
  {
   "cell_type": "code",
   "execution_count": 46,
   "metadata": {},
   "outputs": [],
   "source": [
    "x_train, x_test, y_train, y_test = train_test_split(X, y, test_size=0.20, random_state=42)"
   ]
  },
  {
   "cell_type": "code",
   "execution_count": 47,
   "metadata": {},
   "outputs": [],
   "source": [
    "def reshapeX(X):\n",
    "    return X.reshape((-1, 300, 1)).astype('float32')\n",
    "def reshapeY(y):\n",
    "    return y.reshape((-1, 4, 1))"
   ]
  },
  {
   "cell_type": "code",
   "execution_count": 48,
   "metadata": {},
   "outputs": [],
   "source": [
    "x_train = reshapeX(x_train)\n",
    "x_test = reshapeX(x_test)"
   ]
  },
  {
   "cell_type": "code",
   "execution_count": 50,
   "metadata": {},
   "outputs": [
    {
     "name": "stdout",
     "output_type": "stream",
     "text": [
      "(337850, 300, 1)\n",
      "(337850, 4)\n"
     ]
    }
   ],
   "source": [
    "print(x_train.shape)\n",
    "print(y_train.shape)"
   ]
  },
  {
   "cell_type": "code",
   "execution_count": 51,
   "metadata": {},
   "outputs": [],
   "source": [
    "input_shape = [300, 1]\n",
    "n_class = 4\n",
    "n_routing = 3"
   ]
  },
  {
   "cell_type": "code",
   "execution_count": 70,
   "metadata": {},
   "outputs": [],
   "source": [
    "inp = Input(shape=input_shape)\n",
    "x = Conv1D(filters=256, kernel_size=10, strides=1, padding='valid', activation='relu')(inp)\n",
    "x = MaxPooling1D(pool_size=2, strides=None, padding='valid', data_format='channels_last')(x)\n",
    "x = Dropout(0.25)(x)\n",
    "x = Conv1D(filters=256, kernel_size=3, strides=1, padding='valid', activation='relu')(x)\n",
    "x = MaxPooling1D(pool_size=2, strides=None, padding='valid', data_format='channels_last')(x)\n",
    "x = Dropout(0.25)(x)\n",
    "x = Bidirectional(LSTM(128, return_sequences=True), input_shape=(300, 1))(x)\n",
    "x = Flatten()(x)\n",
    "x = Dropout(0.25)(x)\n",
    "out = Dense(n_class, activation='softmax')(x)"
   ]
  },
  {
   "cell_type": "code",
   "execution_count": 71,
   "metadata": {},
   "outputs": [],
   "source": [
    "model = Model(inputs=inp, outputs=out)\n",
    "model.compile(optimizer='adam', loss=['categorical_crossentropy'], metrics=['accuracy'])"
   ]
  },
  {
   "cell_type": "code",
   "execution_count": 72,
   "metadata": {},
   "outputs": [
    {
     "name": "stdout",
     "output_type": "stream",
     "text": [
      "Train on 270280 samples, validate on 67570 samples\n",
      "Epoch 1/10\n",
      "270280/270280 [==============================] - 1135s 4ms/step - loss: 0.6520 - acc: 0.7454 - val_loss: 0.4630 - val_acc: 0.8325\n",
      "Epoch 2/10\n",
      "270280/270280 [==============================] - 1134s 4ms/step - loss: 0.4551 - acc: 0.8349 - val_loss: 0.4141 - val_acc: 0.8511\n",
      "Epoch 3/10\n",
      "270280/270280 [==============================] - 1136s 4ms/step - loss: 0.4203 - acc: 0.8483 - val_loss: 0.3972 - val_acc: 0.8565\n",
      "Epoch 4/10\n",
      "270280/270280 [==============================] - 1134s 4ms/step - loss: 0.3989 - acc: 0.8560 - val_loss: 0.3769 - val_acc: 0.8653\n",
      "Epoch 5/10\n",
      "270280/270280 [==============================] - 1133s 4ms/step - loss: 0.3828 - acc: 0.8619 - val_loss: 0.3629 - val_acc: 0.8705\n",
      "Epoch 6/10\n",
      "270280/270280 [==============================] - 1133s 4ms/step - loss: 0.3668 - acc: 0.8679 - val_loss: 0.3532 - val_acc: 0.8745\n",
      "Epoch 7/10\n",
      "270280/270280 [==============================] - 1133s 4ms/step - loss: 0.3563 - acc: 0.8725 - val_loss: 0.3414 - val_acc: 0.8792\n",
      "Epoch 8/10\n",
      "270280/270280 [==============================] - 1133s 4ms/step - loss: 0.3443 - acc: 0.8765 - val_loss: 0.3276 - val_acc: 0.8846\n",
      "Epoch 9/10\n",
      "270280/270280 [==============================] - 1133s 4ms/step - loss: 0.3348 - acc: 0.8810 - val_loss: 0.3237 - val_acc: 0.8867\n",
      "Epoch 10/10\n",
      "270280/270280 [==============================] - 1133s 4ms/step - loss: 0.3255 - acc: 0.8847 - val_loss: 0.3142 - val_acc: 0.8904\n"
     ]
    },
    {
     "data": {
      "text/plain": [
       "<keras.callbacks.History at 0x7fd713d08c90>"
      ]
     },
     "execution_count": 72,
     "metadata": {},
     "output_type": "execute_result"
    }
   ],
   "source": [
    "model.fit(x_train, y_train, batch_size=500, epochs=10, validation_split=0.2)"
   ]
  },
  {
   "cell_type": "code",
   "execution_count": 73,
   "metadata": {},
   "outputs": [],
   "source": [
    "predictions = model.predict(x_test)"
   ]
  },
  {
   "cell_type": "code",
   "execution_count": 74,
   "metadata": {},
   "outputs": [],
   "source": [
    "preds = np.argmax(predictions, axis=1)\n",
    "ytest = np.argmax(y_test, axis=1)"
   ]
  },
  {
   "cell_type": "code",
   "execution_count": 75,
   "metadata": {},
   "outputs": [],
   "source": [
    "accuracy = accuracy_score(ytest, preds)"
   ]
  },
  {
   "cell_type": "code",
   "execution_count": 76,
   "metadata": {},
   "outputs": [
    {
     "data": {
      "text/plain": [
       "0.8897268626499177"
      ]
     },
     "execution_count": 76,
     "metadata": {},
     "output_type": "execute_result"
    }
   ],
   "source": [
    "accuracy"
   ]
  },
  {
   "cell_type": "code",
   "execution_count": null,
   "metadata": {},
   "outputs": [],
   "source": []
  }
 ],
 "metadata": {
  "kernelspec": {
   "display_name": "Python 2",
   "language": "python",
   "name": "python2"
  },
  "language_info": {
   "codemirror_mode": {
    "name": "ipython",
    "version": 2
   },
   "file_extension": ".py",
   "mimetype": "text/x-python",
   "name": "python",
   "nbconvert_exporter": "python",
   "pygments_lexer": "ipython2",
   "version": "2.7.12"
  }
 },
 "nbformat": 4,
 "nbformat_minor": 2
}
